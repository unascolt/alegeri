{
 "cells": [
  {
   "cell_type": "code",
   "execution_count": 1,
   "metadata": {},
   "outputs": [],
   "source": [
    "import datetime\n",
    "import glob\n",
    "import logging\n",
    "import os\n",
    "import re\n",
    "\n",
    "import pandas as pd\n",
    "import numpy as np\n",
    "import seaborn as sns\n",
    "import matplotlib.pyplot as plt\n",
    "\n",
    "import qgrid\n",
    "from IPython.display import display, HTML\n",
    "from ipywidgets import interact, interactive, fixed, interact_manual\n",
    "import ipywidgets as widgets\n",
    "\n",
    "\n",
    "def setup_logger(name):\n",
    "    logger = logging.getLogger(name)\n",
    "    FORMAT = '%(asctime)s,%(msecs)d %(levelname)-8s [%(filename)s:%(lineno)d] %(message)s'\n",
    "    formatter = logging.Formatter(fmt=FORMAT)\n",
    "    handler = logging.StreamHandler()\n",
    "    handler.setFormatter(formatter)\n",
    "    logger.handlers = []\n",
    "    logger.addHandler(handler)\n",
    "    logger.propagate = False\n",
    "    return logger\n",
    "\n",
    "logger = setup_logger(__name__)\n",
    "logger.setLevel(logging.INFO)"
   ]
  },
  {
   "cell_type": "code",
   "execution_count": 2,
   "metadata": {},
   "outputs": [],
   "source": [
    "plt.rcParams['figure.figsize'] = (20.0, 10.0)\n",
    "pd.options.mode.chained_assignment = None"
   ]
  },
  {
   "cell_type": "markdown",
   "metadata": {},
   "source": [
    "# Read and clean up data"
   ]
  },
  {
   "cell_type": "code",
   "execution_count": 124,
   "metadata": {},
   "outputs": [
    {
     "data": {
      "application/vnd.jupyter.widget-view+json": {
       "model_id": "41b7a2dd25e04eeb8f12e5263e909ea1",
       "version_major": 2,
       "version_minor": 0
      },
      "text/plain": [
       "QgridWidget(grid_options={'fullWidthRows': True, 'syncColumnCellResize': True, 'forceFitColumns': True, 'defau…"
      ]
     },
     "metadata": {},
     "output_type": "display_data"
    }
   ],
   "source": [
    "def read_europene_df():\n",
    "    df = pd.read_csv(\"../../europene_2019/data/rezultate.csv\")\n",
    "    df.rename(columns={c: c.lower() for c in df.columns}, inplace=True)\n",
    "    df.rename(columns={\"cod birou electoral\": \"cod\", \"județ\": \"judet\", \"nr\": \"numar\", \"secție\": \"sectie\"},\n",
    "                       inplace=True)\n",
    "    europene_legenda = {\"g1\": \"PSD\", \"g2\": \"USR\", \"g3\": \"PRO ROMANIA\", \"g4\": \"UDMR\", \"g5\": \"PNL\", \"g6\": \"ALDE\",\n",
    "                        \"g7\": \"PRODEMO\", \"g8\": \"PMP\",\n",
    "                       }\n",
    "    metrics = {\"a\": \"lista\", \"a1\": \"lista permanenta\", \"a2\": \"lista speciale\",\n",
    "                        \"b\": \"prezenta\", \"b1\": \"prezenta permanenta\", \"b2\": \"prezenta speciala\", \"b3\": \"prezenta suplimentara\",\n",
    "                       \"c\": \"buletine\", \"d\": \"unused\", \"e\": \"valabile\", \"f\": \"nule\"}\n",
    "    df.loc[:, \"judet\"] = df[\"judet\"].str.replace(\"MUNICIPIUL BUCUREŞTI - \", \"\")\n",
    "    df.rename(columns=europene_legenda, inplace=True)\n",
    "    df.rename(columns=metrics, inplace=True)\n",
    "    df.drop(columns=[\"cod\", \"h\", \"i\"], inplace=True)\n",
    "    df.set_index([c for c in df.columns if df.dtypes[c] == \"object\"] + [\"numar\"], inplace=True)\n",
    "    df.reset_index([\"tip\", \"sectie\"], drop=True, inplace=True)\n",
    "    df = df[list(europene_legenda.values())]\n",
    "    return df\n",
    "europene_df = read_europene_df()\n",
    "qgrid.show_grid(europene_df)"
   ]
  },
  {
   "cell_type": "code",
   "execution_count": 127,
   "metadata": {},
   "outputs": [
    {
     "data": {
      "application/vnd.jupyter.widget-view+json": {
       "model_id": "a0847148d8ec4caeb066821b96012ad2",
       "version_major": 2,
       "version_minor": 0
      },
      "text/plain": [
       "QgridWidget(grid_options={'fullWidthRows': True, 'syncColumnCellResize': True, 'forceFitColumns': True, 'defau…"
      ]
     },
     "metadata": {},
     "output_type": "display_data"
    }
   ],
   "source": [
    "def read_prez_tur1_df():\n",
    "    df = pd.read_csv(\"../../prezidentiale_2019/data/rezultate_tur1.csv\")\n",
    "    df.rename(columns={c: c.lower() for c in df.columns}, inplace=True)\n",
    "    df.rename(columns={\"cod birou electoral\": \"cod\", \"județ\": \"judet\", \"nr\": \"numar\", \"secție\": \"sectie\"},\n",
    "                       inplace=True)\n",
    "    prez_legenda = {\"g1\": \"Iohanis\", \"g2\": \"Paleologu\", \"g3\": \"Barna\", \"g4\": \"Kelemen\", \"g5\": \"Dancila\",\n",
    "                        \"g6\": \"Ivan\", \"g7\": \"Peia\", \"g8\": \"Popescu\", \"g9\": \"Banu\", \"g10\": \"Diaconu\",\n",
    "                        \"g11\": \"Stanoevici\", \"g12\": \"Bruynseels\", \"g13\": \"Catarama\", \"g14\": \"Cumpanasu\"\n",
    "                       }\n",
    "    metrics = {\"a\": \"lista\", \"b\": \"prezenta\", \"b1\": \"prezenta permanenta\", \"b2\": \"prezenta suplimentare\", \n",
    "               \"b3\": \"prezenta speciala\",\n",
    "               \"c\": \"valabile\", \"d\": \"nule\", \"e\": \"buletine\", \"f\": \"unused\"}\n",
    "    df.loc[:, \"judet\"] = df[\"judet\"].str.replace(\"MUNICIPIUL BUCUREŞTI - \", \"\")\n",
    "    df.rename(columns=prez_legenda, inplace=True)\n",
    "    df.rename(columns=metrics, inplace=True)\n",
    "    df.drop(columns=[\"cod\"], inplace=True)\n",
    "    df.set_index([c for c in df.columns if df.dtypes[c] == \"object\"] + [\"numar\"], inplace=True)\n",
    "    df.reset_index([\"tip\", \"sectie\"], drop=True, inplace=True)\n",
    "    df = df[list(prez_legenda.values())]\n",
    "    return df\n",
    "prez_tur1_df = read_prez_tur1_df()\n",
    "qgrid.show_grid(prez_tur1_df)"
   ]
  },
  {
   "cell_type": "markdown",
   "metadata": {},
   "source": [
    "# Compara voturile europene/tur1"
   ]
  },
  {
   "cell_type": "code",
   "execution_count": 128,
   "metadata": {
    "scrolled": true
   },
   "outputs": [
    {
     "name": "stderr",
     "output_type": "stream",
     "text": [
      "/home/mihaia/.virtualenvs/data_env/lib/python3.6/site-packages/ipykernel/zmqshell.py:537: PerformanceWarning: indexing past lexsort depth may impact performance.\n",
      "  return super(ZMQInteractiveShell, self).run_cell(*args, **kwargs)\n"
     ]
    },
    {
     "data": {
      "application/vnd.jupyter.widget-view+json": {
       "model_id": "338ea66b60e74a9d9ac4940a126577e1",
       "version_major": 2,
       "version_minor": 0
      },
      "text/plain": [
       "QgridWidget(grid_options={'fullWidthRows': True, 'syncColumnCellResize': True, 'forceFitColumns': True, 'defau…"
      ]
     },
     "metadata": {},
     "output_type": "display_data"
    }
   ],
   "source": [
    "def build_comparison_df(euro_df, prez_df):\n",
    "    euro_df.loc[:, \"PRO ROMANIA\"] = euro_df[\"PRO ROMANIA\"] + euro_df[\"ALDE\"]\n",
    "    euro_df = euro_df.drop(columns=\"ALDE\")\n",
    "    candidat_partid_mapping = {\"Iohanis\": \"PNL\", \"Barna\": \"USR\", \"Dancila\": \"PSD\", \"Paleologu\": \"PMP\", \n",
    "                               \"Diaconu\": \"PRO ROMANIA\", \"Kelemen\": \"UDMR\"}\n",
    "    prez_df = prez_df.rename(columns=candidat_partid_mapping)\n",
    "    prez_df = prez_df[list(candidat_partid_mapping.values())]\n",
    "    euro_df = euro_df[list(candidat_partid_mapping.values())]\n",
    "    df = prez_df.join(euro_df, lsuffix=\"_prez\", rsuffix=\"_euro\")\n",
    "    df = df[sorted(df.columns)]\n",
    "    return df\n",
    "comparison_df = build_comparison_df(europene_df, prez_tur1_df)\n",
    "qgrid.show_grid(comparison_df)"
   ]
  },
  {
   "cell_type": "code",
   "execution_count": 145,
   "metadata": {},
   "outputs": [
    {
     "data": {
      "application/vnd.jupyter.widget-view+json": {
       "model_id": "8d3c790868404a79a1f9af1523413f08",
       "version_major": 2,
       "version_minor": 0
      },
      "text/plain": [
       "QgridWidget(grid_options={'fullWidthRows': True, 'syncColumnCellResize': True, 'forceFitColumns': False, 'defa…"
      ]
     },
     "metadata": {},
     "output_type": "display_data"
    }
   ],
   "source": [
    "df = comparison_df.groupby(\"judet\").sum()\n",
    "for c in europene_df.columns:\n",
    "    if f\"{c}_prez\" not in df.columns:\n",
    "        continue\n",
    "    df[f\"{c}__p/e\"] = df[f\"{c}_prez\"] / df[f\"{c}_euro\"]\n",
    "df = df[sorted(df.columns)]\n",
    "qgrid.show_grid(df,  grid_options={'fullWidthRows': True,\n",
    "                              'syncColumnCellResize': True,\n",
    "                              'forceFitColumns': False,\n",
    "                              'rowHeight': 40,\n",
    "                              'enableColumnReorder': True,\n",
    "                              'enableTextSelectionOnCells': True})"
   ]
  }
 ],
 "metadata": {
  "kernelspec": {
   "display_name": "Python 3",
   "language": "python",
   "name": "python3"
  },
  "language_info": {
   "codemirror_mode": {
    "name": "ipython",
    "version": 3
   },
   "file_extension": ".py",
   "mimetype": "text/x-python",
   "name": "python",
   "nbconvert_exporter": "python",
   "pygments_lexer": "ipython3",
   "version": "3.6.5"
  }
 },
 "nbformat": 4,
 "nbformat_minor": 2
}
